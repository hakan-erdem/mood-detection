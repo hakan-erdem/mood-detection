{
 "cells": [
  {
   "cell_type": "code",
   "execution_count": null,
   "id": "3e32affa",
   "metadata": {},
   "outputs": [],
   "source": [
    "# pip install fer"
   ]
  },
  {
   "cell_type": "code",
   "execution_count": 2,
   "id": "6f094cd7",
   "metadata": {},
   "outputs": [],
   "source": [
    "import cv2\n",
    "import numpy as np\n",
    "from fer import FER"
   ]
  },
  {
   "cell_type": "code",
   "execution_count": 3,
   "id": "8a6aa0cb",
   "metadata": {},
   "outputs": [],
   "source": [
    "# Define emotion labels\n",
    "emotion_labels = ['angry', 'disgust', 'fear', 'happy', 'sad', 'surprise', 'neutral']\n",
    "emo_detector = FER(mtcnn=True)\n",
    "\n",
    "# Start capturing video\n",
    "cap = cv2.VideoCapture(0)\n",
    "\n",
    "while True:\n",
    "    # Capture frame-by-frame\n",
    "    ret, frame = cap.read()\n",
    "\n",
    "    \n",
    "    result = emo_detector.detect_emotions(frame)\n",
    "    \n",
    "    if result == []:\n",
    "        print(\"no face found\")\n",
    "        continue\n",
    "    \n",
    "    bbox = result[0][\"box\"]\n",
    "    emotions = result[0][\"emotions\"]\n",
    "    dominant_emotion, emotion_score = emo_detector.top_emotion(frame)\n",
    "\n",
    "    \n",
    "    # Draw rectangle around face and label with predicted emotion\n",
    "#     cv2.rectangle(frame, (0, 0), (200, 200), (0, 0, 0), -1)\n",
    "    \n",
    "    # face bounding box\n",
    "    x, y, w, h = bbox\n",
    "    cv2.rectangle(frame,(x,y),(x+w,y+h),(255,0,0),2)\n",
    "\n",
    "    # emotion scores\n",
    "    for idx, em in enumerate(emotion_labels):\n",
    "        text = f\"{em}: {emotions[em]:.4f}\"\n",
    "        cv2.putText(frame, text, (10, 20*(idx+1)), cv2.FONT_HERSHEY_SIMPLEX, 0.5,(0, 0, 0), 2)\n",
    "    \n",
    "    cv2.putText(frame, f\"Emotion: {dominant_emotion} - {emotion_score}\", (10, 20*(idx+3)), cv2.FONT_HERSHEY_SIMPLEX, 0.5,(0, 0, 0), 2)\n",
    "\n",
    "    cv2.putText(frame, \"Press \\'q\\' to exit\", (500, 465), cv2.FONT_HERSHEY_SIMPLEX, 0.5,(255, 255, 255), 2)\n",
    "    \n",
    "    # Display the resulting frame\n",
    "    cv2.imshow('Real-time Emotion Detection', frame)\n",
    "    \n",
    "    \n",
    "    # Press 'q' to exit\n",
    "    if cv2.waitKey(1) & 0xFF == ord('q'):\n",
    "        break\n",
    "\n",
    "# Release the capture and close all windows\n",
    "cap.release()\n",
    "cv2.destroyAllWindows()"
   ]
  },
  {
   "cell_type": "code",
   "execution_count": null,
   "id": "24b8cc8d",
   "metadata": {},
   "outputs": [],
   "source": []
  }
 ],
 "metadata": {
  "kernelspec": {
   "display_name": "Python 3 (ipykernel)",
   "language": "python",
   "name": "python3"
  },
  "language_info": {
   "codemirror_mode": {
    "name": "ipython",
    "version": 3
   },
   "file_extension": ".py",
   "mimetype": "text/x-python",
   "name": "python",
   "nbconvert_exporter": "python",
   "pygments_lexer": "ipython3",
   "version": "3.9.16"
  }
 },
 "nbformat": 4,
 "nbformat_minor": 5
}
