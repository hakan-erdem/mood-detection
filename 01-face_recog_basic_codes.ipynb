{
 "cells": [
  {
   "cell_type": "markdown",
   "metadata": {},
   "source": [
    "# <a href=https://www.geeksforgeeks.org/opencv-python-program-face-detection> The Reference Code <a/>"
   ]
  },
  {
   "cell_type": "code",
   "execution_count": 2,
   "metadata": {},
   "outputs": [],
   "source": [
    "import cv2\n",
    "import numpy as np"
   ]
  },
  {
   "cell_type": "code",
   "execution_count": 6,
   "metadata": {},
   "outputs": [],
   "source": [
    "# load the required trained XML classifiers\n",
    "# https://github.com/Itseez/opencv/blob/master/\n",
    "# data/haarcascades/haarcascade_frontalface_default.xml\n",
    "\n",
    "face_cascade = cv2.CascadeClassifier(\"haarcascade_frontalface_default.xml\")\n",
    "  \n",
    "\n",
    "# capture frames from a camera\n",
    "cap = cv2.VideoCapture(0)\n",
    "  \n",
    "# loop runs if capturing has been initialized.\n",
    "while True: \n",
    "  \n",
    "    # reads frames from a camera\n",
    "    ret, img = cap.read() \n",
    "  \n",
    "    # convert to gray scale of each frames\n",
    "    gray = cv2.cvtColor(img, cv2.COLOR_BGR2GRAY)\n",
    "  \n",
    "    # Detects faces of different sizes in the input image\n",
    "    faces = face_cascade.detectMultiScale(gray, 1.3, 5)\n",
    "\n",
    "    for (x,y,w,h) in faces:\n",
    "        # To draw a rectangle in a face \n",
    "        cv2.rectangle(img,(x,y),(x+w,y+h),(255,255,0),2) \n",
    "        roi_gray = gray[y:y+h, x:x+w]\n",
    "        roi_color = img[y:y+h, x:x+w]\n",
    "  \n",
    "  \n",
    "    # Display an image in a window\n",
    "    cv2.imshow('img',img)\n",
    "  \n",
    "    # Wait for Esc key to stop\n",
    "    k = cv2.waitKey(30) & 0xff\n",
    "    if k == 27:\n",
    "        break\n",
    "\n",
    "# Close the window\n",
    "cap.release()\n",
    "  \n",
    "# De-allocate any associated memory usage\n",
    "cv2.destroyAllWindows() "
   ]
  }
 ],
 "metadata": {
  "kernelspec": {
   "display_name": "Python 3 (ipykernel)",
   "language": "python",
   "name": "python3"
  },
  "language_info": {
   "codemirror_mode": {
    "name": "ipython",
    "version": 3
   },
   "file_extension": ".py",
   "mimetype": "text/x-python",
   "name": "python",
   "nbconvert_exporter": "python",
   "pygments_lexer": "ipython3",
   "version": "3.9.16"
  }
 },
 "nbformat": 4,
 "nbformat_minor": 2
}
