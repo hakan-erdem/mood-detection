{
 "cells": [
  {
   "cell_type": "code",
   "execution_count": null,
   "id": "9ee6a8c3",
   "metadata": {},
   "outputs": [],
   "source": [
    "# pip install DeepFace"
   ]
  },
  {
   "cell_type": "code",
   "execution_count": 1,
   "id": "5e5b9328",
   "metadata": {},
   "outputs": [],
   "source": [
    "import cv2\n",
    "import numpy as np\n",
    "import matplotlib.pyplot as plt\n",
    "import time\n",
    "\n",
    "from deepface import DeepFace"
   ]
  },
  {
   "cell_type": "markdown",
   "id": "c0048f9b",
   "metadata": {},
   "source": [
    "- it technically does the job, however its quite slow."
   ]
  },
  {
   "cell_type": "code",
   "execution_count": null,
   "id": "98220ce7",
   "metadata": {
    "scrolled": true
   },
   "outputs": [],
   "source": [
    "# Define emotion labels\n",
    "emotion_labels = ['angry', 'disgust', 'fear', 'happy', 'sad', 'surprise', 'neutral']\n",
    "text_color = (255, 255, 255)\n",
    "\n",
    "# Start capturing video\n",
    "cap = cv2.VideoCapture(0)\n",
    "\n",
    "prev_frame_time = 0\n",
    "# used to record the time at which we processed current frame\n",
    "new_frame_time = 0\n",
    "\n",
    "while True:\n",
    "    # Capture frame-by-frame\n",
    "    ret, frame = cap.read()\n",
    "\n",
    "    \n",
    "#     result = emo_detector.detect_emotions(frame)\n",
    "    try:\n",
    "        result = DeepFace.analyze(frame, actions=[\"emotion\", \"age\", \"gender\", \"race\"], silent=True)\n",
    "    \n",
    "    except ValueError:\n",
    "        continue\n",
    "    \n",
    "    bbox = result[0][\"region\"]\n",
    "    emotions = result[0][\"emotion\"]\n",
    "    dominant_emotion = result[0][\"dominant_emotion\"]\n",
    "    age = result[0][\"age\"]\n",
    "    gender = result[0][\"dominant_gender\"]\n",
    "    races = result[0][\"race\"]\n",
    "    dominant_race = result[0][\"dominant_race\"]\n",
    "    \n",
    "    new_frame_time = time.time()\n",
    "    \n",
    "    # fps will be number of frame processed in given time frame\n",
    "    # since their will be most of time error of 0.001 second\n",
    "    # we will be subtracting it to get more accurate result\n",
    "    fps = 1/(new_frame_time-prev_frame_time)\n",
    "    prev_frame_time = new_frame_time\n",
    "    \n",
    "    # Draw rectangle around face and label with predicted emotion\n",
    "#     cv2.rectangle(frame, (0, 0), (200, 200), (0, 0, 0), -1)\n",
    "    \n",
    "    # face bounding box\n",
    "    x, y, w, h = bbox[\"x\"], bbox[\"y\"], bbox[\"w\"], bbox[\"h\"]\n",
    "    cv2.rectangle(frame,(x,y),(x+w,y+h),(255,0,0),2)\n",
    "    \n",
    "    # emotion scores\n",
    "    for idx, em in enumerate(emotion_labels):\n",
    "        text = f\"{em}: {emotions[em]:.4f}\"\n",
    "        cv2.putText(frame, text, (10, 20*(idx+1)), cv2.FONT_HERSHEY_SIMPLEX, 0.5,text_color, 2)\n",
    "        \n",
    "    cv2.putText(frame, f\"Emotion: {dominant_emotion} - {emotions[dominant_emotion]:.4f}\",\n",
    "            (10, 20*(idx+2)), cv2.FONT_HERSHEY_SIMPLEX, 0.5,text_color, 2)\n",
    "\n",
    "    cv2.putText(frame, f\"age: {age}\", (10, 20*(idx+3)), cv2.FONT_HERSHEY_SIMPLEX, 0.5,text_color, 2)    \n",
    "    cv2.putText(frame, f\"gender: {gender}\", (10, 20*(idx+4)), cv2.FONT_HERSHEY_SIMPLEX, 0.5,text_color, 2)    \n",
    "    cv2.putText(frame, f\"race: {dominant_race}\", (10, 20*(idx+5)), cv2.FONT_HERSHEY_SIMPLEX, 0.5,text_color, 2)\n",
    "    \n",
    "    cv2.putText(frame, \"Press \\'q\\' to exit\", (500, 465), cv2.FONT_HERSHEY_SIMPLEX, 0.5,(255, 255, 255), 2)\n",
    "    \n",
    "    cv2.putText(frame, f\"fps: {fps:.3f}\", (5, 465), cv2.FONT_HERSHEY_SIMPLEX, 0.5,text_color, 2)\n",
    "    \n",
    "    # Display the resulting frame\n",
    "    cv2.imshow('Real-time Emotion Detection', frame)\n",
    "    \n",
    "    \n",
    "    # Press 'q' to exit\n",
    "    if cv2.waitKey(1) & 0xFF == ord('q'):\n",
    "        break\n",
    "\n",
    "# Release the capture and close all windows\n",
    "cap.release()\n",
    "cv2.destroyAllWindows()"
   ]
  },
  {
   "cell_type": "code",
   "execution_count": null,
   "id": "2723457f",
   "metadata": {},
   "outputs": [],
   "source": []
  }
 ],
 "metadata": {
  "kernelspec": {
   "display_name": "Python 3 (ipykernel)",
   "language": "python",
   "name": "python3"
  },
  "language_info": {
   "codemirror_mode": {
    "name": "ipython",
    "version": 3
   },
   "file_extension": ".py",
   "mimetype": "text/x-python",
   "name": "python",
   "nbconvert_exporter": "python",
   "pygments_lexer": "ipython3",
   "version": "3.9.7"
  }
 },
 "nbformat": 4,
 "nbformat_minor": 5
}
